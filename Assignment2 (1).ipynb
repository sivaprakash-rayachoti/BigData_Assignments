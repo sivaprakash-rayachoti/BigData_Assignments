{
 "cells": [
  {
   "cell_type": "markdown",
   "id": "c5c25379-8aa9-49d3-a374-6d4a5f9fd9b7",
   "metadata": {},
   "source": [
    "1. Write an SQL query to retrieve the names and email addresses of all employees from a table named \"Employees\"."
   ]
  },
  {
   "cell_type": "code",
   "execution_count": null,
   "id": "b4988023-cfa6-4207-ae5b-b4d1ece88471",
   "metadata": {},
   "outputs": [],
   "source": [
    "SELECT name, email\n",
    "FROM Employees;"
   ]
  },
  {
   "cell_type": "markdown",
   "id": "4c4d4836-e54a-4bc7-a04e-3bae3965531d",
   "metadata": {},
   "source": [
    "2. Write an SQL query to filter records from a table named \"Customers\" where the \"City\" column is 'New York'."
   ]
  },
  {
   "cell_type": "code",
   "execution_count": null,
   "id": "699c5a52-9c1f-44c2-b817-44bad6bd5565",
   "metadata": {},
   "outputs": [],
   "source": [
    "SELECT *\n",
    "FROM Customers\n",
    "WHERE City = 'New York';\n"
   ]
  },
  {
   "cell_type": "markdown",
   "id": "98c0792c-c605-4acc-bb25-27596601ea89",
   "metadata": {},
   "source": [
    "3. Write an SQL query to sort records in descending order based on the \"DateOfBirth\" column in a table named \"Users\"."
   ]
  },
  {
   "cell_type": "code",
   "execution_count": null,
   "id": "1b9b8af5-6728-4007-b1c4-502221e68604",
   "metadata": {},
   "outputs": [],
   "source": [
    "SELECT *\n",
    "FROM Users\n",
    "ORDER BY DateOfBirth DESC;\n"
   ]
  },
  {
   "cell_type": "markdown",
   "id": "1ae1a77d-7e05-4b45-a9a7-89c5eda5bed6",
   "metadata": {},
   "source": [
    "4. Write an SQL query to sort records in ascending order based on the \"RegistrationDate\" column in a table named \"Users\"."
   ]
  },
  {
   "cell_type": "code",
   "execution_count": null,
   "id": "79ad349f-7761-4522-92b0-7c1523a57dd2",
   "metadata": {},
   "outputs": [],
   "source": [
    "SELECT *\n",
    "FROM Users\n",
    "ORDER BY RegistrationDate ASC;\n"
   ]
  },
  {
   "cell_type": "markdown",
   "id": "236302b5-9683-42b3-a29a-ae41d0bb376b",
   "metadata": {},
   "source": [
    "5. Write an SQL query to find the employee with the highest salary from a table named \"Employees\" and display their name, position, and salary."
   ]
  },
  {
   "cell_type": "code",
   "execution_count": null,
   "id": "1860f1bf-6949-4742-851a-c896461021b0",
   "metadata": {},
   "outputs": [],
   "source": [
    "SELECT name, position, salary\n",
    "FROM Employees\n",
    "WHERE salary = (\n",
    "    SELECT MAX(salary)\n",
    "    FROM Employees);\n"
   ]
  },
  {
   "cell_type": "markdown",
   "id": "84ac043d-34e2-42d5-b656-df14464ed99e",
   "metadata": {},
   "source": [
    "6. Write an SQL query to retrieve records from a table named \"Customers\" where the \"Phone\" column matches the pattern '+1-XXX-XXX-XXXX'."
   ]
  },
  {
   "cell_type": "code",
   "execution_count": null,
   "id": "c73b784b-a2f5-482c-9707-8cd73f971d0f",
   "metadata": {},
   "outputs": [],
   "source": [
    "SELECT *\n",
    "FROM Customers\n",
    "WHERE Phone LIKE '+1-___-___-____';\n"
   ]
  },
  {
   "cell_type": "markdown",
   "id": "548ee599-21b8-4823-9cd7-db2ee6a916d5",
   "metadata": {},
   "source": [
    "7. Write an SQL query to retrieve the top 5 customers with the highest total purchase amount from a table named \"Orders\" and display their names and total purchase amounts."
   ]
  },
  {
   "cell_type": "code",
   "execution_count": null,
   "id": "c71c9c88-5356-479f-8798-ac62da10f3e5",
   "metadata": {},
   "outputs": [],
   "source": [
    "SELECT CustomerName, SUM(OrderAmount) AS TotalPurchaseAmount\n",
    "FROM Orders\n",
    "GROUP BY CustomerName\n",
    "ORDER BY TotalPurchaseAmount DESC\n",
    "LIMIT 5;\n"
   ]
  },
  {
   "cell_type": "markdown",
   "id": "f2f9a42e-1c49-4ac6-b143-6131e1577797",
   "metadata": {},
   "source": [
    "8. Write an SQL query to calculate the percentage of sales for each product category in a table named \"Sales\" and display the category name, total sales amount, and the percentage of total sales."
   ]
  },
  {
   "cell_type": "code",
   "execution_count": null,
   "id": "07b41c27-1ead-4d0d-a9c9-7d8fd90780f6",
   "metadata": {},
   "outputs": [],
   "source": [
    "SELECT CategoryName, SUM(SalesAmount) AS TotalSalesAmount, \n",
    "    (SUM(SalesAmount) / (SELECT SUM(SalesAmount) FROM Sales)) * 100 AS PercentageOfSales\n",
    "FROM Sales\n",
    "GROUP BY CategoryName;\n"
   ]
  },
  {
   "cell_type": "markdown",
   "id": "e99d5480-4336-4c5f-a84a-95acbb9f4c21",
   "metadata": {},
   "source": [
    "9. Write an SQL query to find the customers who have made the highest total purchases across all years from a table named \"Orders\" and display their names, email addresses, and the total purchase amount"
   ]
  },
  {
   "cell_type": "code",
   "execution_count": null,
   "id": "8fc0b9cb-62fe-40b0-a94c-e6b7e9952a6a",
   "metadata": {},
   "outputs": [],
   "source": [
    "SELECT CustomerName, Email, SUM(OrderAmount) AS TotalPurchaseAmount\n",
    "FROM Orders\n",
    "GROUP BY CustomerName, Email\n",
    "HAVING SUM(OrderAmount) = (\n",
    "    SELECT MAX(TotalPurchaseAmount)\n",
    "    FROM (\n",
    "        SELECT SUM(OrderAmount) AS TotalPurchaseAmount\n",
    "        FROM Orders\n",
    "        GROUP BY CustomerName, Email\n",
    "    ) AS Subquery);\n"
   ]
  }
 ],
 "metadata": {
  "kernelspec": {
   "display_name": "Python 3 (ipykernel)",
   "language": "python",
   "name": "python3"
  },
  "language_info": {
   "codemirror_mode": {
    "name": "ipython",
    "version": 3
   },
   "file_extension": ".py",
   "mimetype": "text/x-python",
   "name": "python",
   "nbconvert_exporter": "python",
   "pygments_lexer": "ipython3",
   "version": "3.10.6"
  }
 },
 "nbformat": 4,
 "nbformat_minor": 5
}
