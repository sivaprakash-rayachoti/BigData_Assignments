{
 "cells": [
  {
   "cell_type": "markdown",
   "id": "1ce0e77c-5640-439e-a814-514f2f26bc32",
   "metadata": {},
   "source": [
    "1. Write a Python program to check if a given string is an anagram."
   ]
  },
  {
   "cell_type": "code",
   "execution_count": 1,
   "id": "d19ea4f6-0411-40dd-94cc-fec037f612e3",
   "metadata": {},
   "outputs": [
    {
     "name": "stdout",
     "output_type": "stream",
     "text": [
      "The strings are anagrams.\n"
     ]
    }
   ],
   "source": [
    "# function to check if two strings are\n",
    "# anagram or not\n",
    "def check(s1, s2):\n",
    "\t\n",
    "\t# the sorted strings are checked\n",
    "\tif(sorted(s1)== sorted(s2)):\n",
    "\t\tprint(\"The strings are anagrams.\")\n",
    "\telse:\n",
    "\t\tprint(\"The strings aren't anagrams.\")\t\t\n",
    "\t\t\n",
    "# driver code\n",
    "s1 =\"listen\"\n",
    "s2 =\"silent\"\n",
    "check(s1, s2)\n"
   ]
  },
  {
   "cell_type": "markdown",
   "id": "a56cc91d-0a85-4215-82cc-16913bb3143c",
   "metadata": {},
   "source": [
    "2. Write a Python program to find the maximum and minimum values in a\n",
    "dictionary."
   ]
  },
  {
   "cell_type": "code",
   "execution_count": 2,
   "id": "4d886b15-d8a6-4877-891e-7af28e0fd762",
   "metadata": {},
   "outputs": [
    {
     "name": "stdout",
     "output_type": "stream",
     "text": [
      "Maximum Value:  5874\n",
      "Minimum Value:  500\n"
     ]
    }
   ],
   "source": [
    "my_dict = {'x':500, 'y':5874, 'z': 560}\n",
    "\n",
    "key_max = max(my_dict.keys(), key=(lambda k: my_dict[k]))\n",
    "key_min = min(my_dict.keys(), key=(lambda k: my_dict[k]))\n",
    "\n",
    "print('Maximum Value: ',my_dict[key_max])\n",
    "print('Minimum Value: ',my_dict[key_min])\n"
   ]
  },
  {
   "cell_type": "markdown",
   "id": "bdbb47fd-2e4f-4446-82e2-cae52de933c8",
   "metadata": {},
   "source": [
    "3. Write a Python program to find the average of a list of numbers."
   ]
  },
  {
   "cell_type": "code",
   "execution_count": null,
   "id": "9831e995-964a-478f-b953-5858023a7974",
   "metadata": {},
   "outputs": [],
   "source": [
    "# Python program to get average of a list\n",
    "def Average(lst):\n",
    "\treturn sum(lst) / len(lst)\n",
    "\n",
    "# Driver Code\n",
    "lst = [15, 9, 55, 41, 35, 20, 62, 49]\n",
    "average = Average(lst)\n",
    "\n",
    "# Printing average of the list\n",
    "print(\"Average of the list =\", round(average, 2))\n"
   ]
  },
  {
   "cell_type": "markdown",
   "id": "255c6967-9146-42d2-b1bb-aa99c7935b76",
   "metadata": {},
   "source": [
    "4. Write a Python program to remove all vowels from a string."
   ]
  },
  {
   "cell_type": "code",
   "execution_count": null,
   "id": "8c475642-4374-4f35-80ce-cd90b4a4d90f",
   "metadata": {},
   "outputs": [],
   "source": [
    "print(\"Enter the String: \")\n",
    "text = input()\n",
    "\n",
    "vowels = ['a', 'e', 'i', 'o', 'u', 'A', 'E', 'I', 'O', 'U']\n",
    "newtext = \"\"\n",
    "textlen = len(text)\n",
    "\n",
    "for i in range(textlen):\n",
    "    if text[i] not in vowels:\n",
    "        newtext = newtext + text[i]\n",
    "\n",
    "print(\"\\nString after removing Vowels: \")\n",
    "text = newtext\n",
    "print(text)"
   ]
  },
  {
   "cell_type": "markdown",
   "id": "7f498bc3-c875-4655-9a1c-f4150cbcade4",
   "metadata": {},
   "source": [
    "5. Write a Python function to calculate the factorial of a number using recursion."
   ]
  },
  {
   "cell_type": "code",
   "execution_count": null,
   "id": "405772ca-bec4-4b5e-8345-1eddfc17d962",
   "metadata": {},
   "outputs": [],
   "source": [
    "\n",
    "def recursive_factorial(n):\n",
    "  if n == 1:\n",
    "     return n\n",
    "  else:\n",
    "     return n*recursive_factorial(n-1)     #function calling itself\n",
    "\n",
    "#taking input from the user\n",
    "number = int(input(\"User Input : \"))\n",
    "print(\"The factorial of\", number, \"is\", recursive_factorial(number))\n",
    "\n",
    "\n"
   ]
  },
  {
   "cell_type": "markdown",
   "id": "3b1e0b43-083f-4e0c-b956-dea447db235c",
   "metadata": {},
   "source": [
    "6. Write a Python program to merge two unsorted lists into a single sorted list\n",
    "using the merge sort algorithm."
   ]
  },
  {
   "cell_type": "code",
   "execution_count": null,
   "id": "02ad4c0f-7a0d-450f-b7e8-5d555f6f8f0c",
   "metadata": {},
   "outputs": [],
   "source": [
    "# Python3 code to demonstrate\n",
    "# to combine two sorted list\n",
    "# using naive method\n",
    "\n",
    "# initializing lists\n",
    "test_list1 = [1, 5, 6, 9, 11]\n",
    "test_list2 = [3, 4, 7, 8, 10]\n",
    "\n",
    "# printing original lists\n",
    "print(\"The original list 1 is : \" + str(test_list1))\n",
    "print(\"The original list 2 is : \" + str(test_list2))\n",
    "\n",
    "# using naive method\n",
    "# to combine two sorted lists\n",
    "size_1 = len(test_list1)\n",
    "size_2 = len(test_list2)\n",
    "\n",
    "res = []\n",
    "i, j = 0, 0\n",
    "\n",
    "while i < size_1 and j < size_2:\n",
    "\tif test_list1[i] < test_list2[j]:\n",
    "\t\tres.append(test_list1[i])\n",
    "\t\ti += 1\n",
    "\n",
    "\telse:\n",
    "\t\tres.append(test_list2[j])\n",
    "\t\tj += 1\n",
    "\n",
    "res = res + test_list1[i:] + test_list2[j:]\n",
    "\n",
    "# printing result\n",
    "print(\"The combined sorted list is : \" + str(res))\n"
   ]
  },
  {
   "cell_type": "markdown",
   "id": "7c9a40ad-d8f9-44f2-b53f-9f6b35e42897",
   "metadata": {},
   "source": [
    "7. Write a Python program to find the GCD (Greatest Common Divisor) of two\n",
    "numbers."
   ]
  },
  {
   "cell_type": "code",
   "execution_count": null,
   "id": "f8306b35-2388-4a4a-b73d-50987682d2c7",
   "metadata": {},
   "outputs": [],
   "source": [
    "# Python program to find H.C.F of two numbers\n",
    "\n",
    "# define a function\n",
    "def compute_hcf(x, y):\n",
    "\n",
    "# choose the smaller number\n",
    "    if x > y:\n",
    "        smaller = y\n",
    "    else:\n",
    "        smaller = x\n",
    "    for i in range(1, smaller+1):\n",
    "        if((x % i == 0) and (y % i == 0)):\n",
    "            hcf = i \n",
    "    return hcf\n",
    "\n",
    "num1 = 54 \n",
    "num2 = 24\n",
    "\n",
    "print(\"The H.C.F. is\", compute_hcf(num1, num2))\n"
   ]
  },
  {
   "cell_type": "markdown",
   "id": "625927ae-141e-497e-8948-39fce5677479",
   "metadata": {},
   "source": [
    "8. Write a Python program to find the second-largest element in a list."
   ]
  },
  {
   "cell_type": "code",
   "execution_count": null,
   "id": "69d4b094-7414-461b-87f8-434661fe9567",
   "metadata": {},
   "outputs": [],
   "source": [
    "#program to find the second largest number of list  \n",
    "# declaring the list  \n",
    "list_val = [20, 30, 40, 25, 10]  \n",
    "# sorting the list  \n",
    "list_val.sort()  \n",
    "#displaying the second last element of the list  \n",
    "print(\"The second largest element of the list is:\", list_val[-2])  "
   ]
  },
  {
   "cell_type": "markdown",
   "id": "33f342db-6152-4208-badf-239b55f56937",
   "metadata": {},
   "source": [
    "9. Write a Python program to find the longest common subsequence between two\n",
    "strings using dynamic programming."
   ]
  },
  {
   "cell_type": "code",
   "execution_count": null,
   "id": "b75b80bb-53ba-4a0b-980e-fc6376737c17",
   "metadata": {},
   "outputs": [],
   "source": [
    "# A Naive recursive Python implementation of LCS problem\n",
    "\n",
    "def lcs(X, Y, m, n):\n",
    "\n",
    "\tif m == 0 or n == 0:\n",
    "\treturn 0;\n",
    "\telif X[m-1] == Y[n-1]:\n",
    "\treturn 1 + lcs(X, Y, m-1, n-1);\n",
    "\telse:\n",
    "\treturn max(lcs(X, Y, m, n-1), lcs(X, Y, m-1, n));\n",
    "\n",
    "\n",
    "# Driver program to test the above function\n",
    "X = \"AGGTAB\"\n",
    "Y = \"GXTXAYB\"\n",
    "print (\"Length of LCS is \", lcs(X, Y, len(X), len(Y)))\n"
   ]
  }
 ],
 "metadata": {
  "kernelspec": {
   "display_name": "Python 3 (ipykernel)",
   "language": "python",
   "name": "python3"
  },
  "language_info": {
   "codemirror_mode": {
    "name": "ipython",
    "version": 3
   },
   "file_extension": ".py",
   "mimetype": "text/x-python",
   "name": "python",
   "nbconvert_exporter": "python",
   "pygments_lexer": "ipython3",
   "version": "3.10.6"
  }
 },
 "nbformat": 4,
 "nbformat_minor": 5
}
