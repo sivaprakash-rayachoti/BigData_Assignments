{
 "cells": [
  {
   "cell_type": "markdown",
   "id": "b794ecd4-d4fd-465e-b08d-306bef85ad14",
   "metadata": {},
   "source": [
    "1.  Write a Python program that uses the HiveQL language to create a table named \"Employees\" with columns for \"id,\" \"name,\" and \"salary.\"\n"
   ]
  },
  {
   "cell_type": "code",
   "execution_count": null,
   "id": "2a9f200f-3884-491e-aec1-7caa4cf6215e",
   "metadata": {},
   "outputs": [],
   "source": [
    "from pyhive import hive\n",
    "\n",
    "# Establish a connection to Hive\n",
    "connection = hive.connect(host='localhost', port=10000, username='your_username')\n",
    "\n",
    "# Create a cursor object\n",
    "cursor = connection.cursor()\n",
    "\n",
    "# Create the \"Employees\" table\n",
    "create_table_query = \"\"\"\n",
    "    CREATE TABLE Employees (\n",
    "        id INT,\n",
    "        name STRING,\n",
    "        salary DECIMAL(10,2)\n",
    "    )\n",
    "\"\"\"\n",
    "\n",
    "# Execute the create table query\n",
    "cursor.execute(create_table_query)\n",
    "\n",
    "# Close the cursor and the connection\n",
    "cursor.close()\n",
    "connection.close()\n"
   ]
  },
  {
   "cell_type": "markdown",
   "id": "afad430a-edd1-49ab-9e41-8e01d06e3982",
   "metadata": {},
   "source": [
    "2.  Create a Python program that retrieves records from a Hive table named \"Customers\" where the age is greater than 30."
   ]
  },
  {
   "cell_type": "code",
   "execution_count": null,
   "id": "f36cf9f7-49d4-4565-9315-71f7d0ebea2c",
   "metadata": {},
   "outputs": [],
   "source": [
    "from pyhive import hive\n",
    "\n",
    "# Establish a connection to Hive\n",
    "connection = hive.connect(host='localhost', port=10000, username='your_username')\n",
    "\n",
    "# Create a cursor object\n",
    "cursor = connection.cursor()\n",
    "\n",
    "# Execute the select query\n",
    "select_query = \"SELECT * FROM Customers WHERE age > 30\"\n",
    "cursor.execute(select_query)\n",
    "\n",
    "# Fetch all the records\n",
    "results = cursor.fetchall()\n",
    "\n",
    "# Display the records\n",
    "for row in results:\n",
    "    print(row)\n",
    "\n",
    "# Close the cursor and the connection\n",
    "cursor.close()\n",
    "connection.close()\n"
   ]
  },
  {
   "cell_type": "markdown",
   "id": "fd1dba0e-e515-4150-9f46-19839721302d",
   "metadata": {},
   "source": [
    "\n",
    "3.  Write a Python script that sorts records in descending order based on the \"timestamp\" column in a Hive table named \"Logs.\"\n"
   ]
  },
  {
   "cell_type": "code",
   "execution_count": null,
   "id": "5a9b62ae-2159-40c0-a692-b78309a0a304",
   "metadata": {},
   "outputs": [],
   "source": [
    "from pyhive import hive\n",
    "\n",
    "# Establish a connection to Hive\n",
    "connection = hive.connect(host='localhost', port=10000, username='your_username')\n",
    "\n",
    "# Create a cursor object\n",
    "cursor = connection.cursor()\n",
    "\n",
    "# Execute the select query with sorting\n",
    "select_query = \"SELECT * FROM Logs ORDER BY timestamp DESC\"\n",
    "cursor.execute(select_query)\n",
    "\n",
    "# Fetch all the records\n",
    "results = cursor.fetchall()\n",
    "\n",
    "# Display the records\n",
    "for row in results:\n",
    "    print(row)\n",
    "\n",
    "# Close the cursor and the connection\n",
    "cursor.close()\n",
    "connection.close()\n"
   ]
  },
  {
   "cell_type": "markdown",
   "id": "68fc6e3d-5098-4e12-9ab2-a588d5fed295",
   "metadata": {},
   "source": [
    "4.  Write a Python program that connects to a Hive server using PyHive library and retrieves all records from a table named \"Products\".\n"
   ]
  },
  {
   "cell_type": "code",
   "execution_count": null,
   "id": "51faf6fc-1648-4248-9578-a332013b0a82",
   "metadata": {},
   "outputs": [],
   "source": [
    "from pyhive import hive\n",
    "\n",
    "# Establish a connection to Hive\n",
    "connection = hive.connect(host='localhost', port=10000, username='your_username')\n",
    "\n",
    "# Create a cursor object\n",
    "cursor = connection.cursor()\n",
    "\n",
    "# Execute the select query\n",
    "select_query = \"SELECT * FROM Products\"\n",
    "cursor.execute(select_query)\n",
    "\n",
    "# Fetch all the records\n",
    "results = cursor.fetchall()\n",
    "\n",
    "# Display the records\n",
    "for row in results:\n",
    "    print(row)\n",
    "\n",
    "# Close the cursor and the connection\n",
    "cursor.close()\n",
    "connection.close()\n"
   ]
  },
  {
   "cell_type": "markdown",
   "id": "6c1f58df-e60f-417f-85a2-76054123e1c5",
   "metadata": {},
   "source": [
    "5.  Write a Python script that calculates the average salary of employees from a Hive table named \"Employees\".\n"
   ]
  },
  {
   "cell_type": "code",
   "execution_count": null,
   "id": "c14d410d-b35a-4064-b7c5-56041c178a7f",
   "metadata": {},
   "outputs": [],
   "source": [
    "from pyhive import hive\n",
    "\n",
    "# Establish a connection to Hive\n",
    "connection = hive.connect(host='localhost', port=10000, username='your_username')\n",
    "\n",
    "# Create a cursor object\n",
    "cursor = connection.cursor()\n",
    "\n",
    "# Execute the select query to calculate average salary\n",
    "select_query = \"SELECT AVG(salary) FROM Employees\"\n",
    "cursor.execute(select_query)\n",
    "\n",
    "# Fetch the result\n",
    "result = cursor.fetchone()[0]\n",
    "\n",
    "# Display the average salary\n",
    "print(\"Average Salary:\", result)\n",
    "\n",
    "# Close the cursor and the connection\n",
    "cursor.close()\n",
    "connection.close()\n"
   ]
  },
  {
   "cell_type": "markdown",
   "id": "4a1e27e2-bb30-40dd-8ac0-4125ca8cdeb6",
   "metadata": {},
   "source": [
    "6.  Implement a Python program that uses Hive partitioning to create a partitioned table named \"Sales_Data\" based on the \"year\" and \"month\" columns.\n"
   ]
  },
  {
   "cell_type": "code",
   "execution_count": null,
   "id": "3333e294-7bdc-44bb-80a1-f3dfbe67ed79",
   "metadata": {},
   "outputs": [],
   "source": [
    "from pyhive import hive\n",
    "\n",
    "# Establish a connection to Hive\n",
    "connection = hive.connect(host='localhost', port=10000, username='your_username')\n",
    "\n",
    "# Create a cursor object\n",
    "cursor = connection.cursor()\n",
    "\n",
    "# Create the partitioned \"Sales_Data\" table\n",
    "create_table_query = \"\"\"\n",
    "    CREATE TABLE Sales_Data (\n",
    "        id INT,\n",
    "        sales DECIMAL(10,2)\n",
    "    )\n",
    "    PARTITIONED BY (year INT, month INT)\n",
    "\"\"\"\n",
    "cursor.execute(create_table_query)\n",
    "\n",
    "# Close the cursor and the connection\n",
    "cursor.close()\n",
    "connection.close()\n"
   ]
  },
  {
   "cell_type": "markdown",
   "id": "b8a63b7e-f589-4772-abf1-3ab20e0ad316",
   "metadata": {},
   "source": [
    "7.  Develop a Python script that adds a new column named \"email\" of type string to an existing Hive table named \"Employees.\"\n"
   ]
  },
  {
   "cell_type": "code",
   "execution_count": null,
   "id": "dd5440de-d601-480b-9282-4661bf1c8c8e",
   "metadata": {},
   "outputs": [],
   "source": [
    "from pyhive import hive\n",
    "\n",
    "# Establish a connection to Hive\n",
    "connection = hive.connect(host='localhost', port=10000, username='your_username')\n",
    "\n",
    "# Create a cursor object\n",
    "cursor = connection.cursor()\n",
    "\n",
    "# Alter the table to add the \"email\" column\n",
    "alter_table_query = \"ALTER TABLE Employees ADD COLUMNS (email STRING)\"\n",
    "cursor.execute(alter_table_query)\n",
    "\n",
    "# Close the cursor and the connection\n",
    "cursor.close()\n",
    "connection.close()\n"
   ]
  },
  {
   "cell_type": "markdown",
   "id": "90c3d425-6f05-43ff-bf45-6663790e94ea",
   "metadata": {},
   "source": [
    "8.  Create a Python program that performs an inner join between two Hive tables, \"Orders\" and \"Customers,\" based on a common column.\n"
   ]
  },
  {
   "cell_type": "code",
   "execution_count": null,
   "id": "305e4db9-dbd9-4154-8aa5-d5b758fc669c",
   "metadata": {},
   "outputs": [],
   "source": [
    "from pyhive import hive\n",
    "\n",
    "# Establish a connection to Hive\n",
    "connection = hive.connect(host='localhost', port=10000, username='your_username')\n",
    "\n",
    "# Create a cursor object\n",
    "cursor = connection.cursor()\n",
    "\n",
    "# Execute the inner join query\n",
    "join_query = \"\"\"\n",
    "    SELECT *\n",
    "    FROM Orders\n",
    "    INNER JOIN Customers\n",
    "    ON Orders.customer_id = Customers.customer_id\n",
    "\"\"\"\n",
    "cursor.execute(join_query)\n",
    "\n",
    "# Fetch all the joined records\n",
    "results = cursor.fetchall()\n",
    "\n",
    "# Display the joined records\n",
    "for row in results:\n",
    "    print(row)\n",
    "\n",
    "# Close the cursor and the connection\n",
    "cursor.close()\n",
    "connection.close()\n"
   ]
  },
  {
   "cell_type": "markdown",
   "id": "33c3adf0-6531-4f18-8f23-c34e8fb1239b",
   "metadata": {},
   "source": [
    "9.  Implement a Python program that uses the Hive SerDe library to process JSON data stored in a Hive table named \"User_Activity_Logs.\""
   ]
  },
  {
   "cell_type": "code",
   "execution_count": null,
   "id": "6ff265d6-fcb2-4871-b06f-5915b366e560",
   "metadata": {},
   "outputs": [],
   "source": [
    "from pyhive import hive\n",
    "\n",
    "# Establish a connection to Hive\n",
    "connection = hive.connect(host='localhost', port=10000, username='your_username')\n",
    "\n",
    "# Create a cursor object\n",
    "cursor = connection.cursor()\n",
    "\n",
    "# Execute the select query with SerDe\n",
    "select_query = \"SELECT * FROM User_Activity_Logs\"\n",
    "cursor.execute(select_query)\n",
    "\n",
    "# Fetch all the records\n",
    "results = cursor.fetchall()\n",
    "\n",
    "# Process the JSON data\n",
    "for row in results:\n",
    "    json_data = row[0]  # Assuming the JSON data is stored in the first column\n",
    "    # Process the JSON data as per your requirements\n",
    "    print(json_data)\n",
    "\n",
    "# Close the cursor and the connection\n",
    "cursor.close()\n",
    "connection.close()\n"
   ]
  }
 ],
 "metadata": {
  "kernelspec": {
   "display_name": "Python 3 (ipykernel)",
   "language": "python",
   "name": "python3"
  },
  "language_info": {
   "codemirror_mode": {
    "name": "ipython",
    "version": 3
   },
   "file_extension": ".py",
   "mimetype": "text/x-python",
   "name": "python",
   "nbconvert_exporter": "python",
   "pygments_lexer": "ipython3",
   "version": "3.10.6"
  }
 },
 "nbformat": 4,
 "nbformat_minor": 5
}
